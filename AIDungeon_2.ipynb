{
  "nbformat": 4,
  "nbformat_minor": 0,
  "metadata": {
    "colab": {
      "name": "AIDungeon 2.ipynb",
      "provenance": [],
      "include_colab_link": true
    },
    "kernelspec": {
      "name": "python3",
      "display_name": "Python 3"
    },
    "accelerator": "GPU"
  },
  "cells": [
    {
      "cell_type": "markdown",
      "metadata": {
        "id": "view-in-github",
        "colab_type": "text"
      },
      "source": [
        "<a href=\"https://colab.research.google.com/github/infredulous/snippets/blob/master/AIDungeon_2.ipynb\" target=\"_parent\"><img src=\"https://colab.research.google.com/assets/colab-badge.svg\" alt=\"Open In Colab\"/></a>"
      ]
    },
    {
      "cell_type": "markdown",
      "metadata": {
        "id": "7dRi_BDWErNf",
        "colab_type": "text"
      },
      "source": [
        "# AI Dungeon 2\n",
        "AI Dungeon 2 is a completely AI generated text adventure built with OpenAI's largest GPT-2 model. It's a first of it's kind game that allows you to enter and will react to any action you can imagine. \n",
        "\n",
        "[Read more about how AI Dungeon 2 is made.](https://pcc.cs.byu.edu/2019/11/21/ai-dungeon-2-creating-infinitely-generated-text-adventures-with-deep-learning-language-models/)\n",
        "\n",
        "## How to play\n",
        "1. Click \"Tools\"-> \"Settings...\" -> \"Theme\" -> \"Dark\" (optional but recommended)\n",
        "2. Click \"Runtime\" -> \"Run all\"\n",
        "\n",
        "3. It will then take a couple minutes to boot up as the model is downloaded loaded onto the GPU. \n",
        "\n",
        "## Links\n",
        "* While you wait you can [read adventures others have had](https://aidungeon.io/).\n",
        "* If you have any questions or issues feel free to contact me on twitter https://twitter.com/nickwalton00\n",
        "* If you like playing then please consider [supporting](https://www.patreon.com/join/AIDungeon/) me to allow future improvements to AI Dungeon. "
      ]
    },
    {
      "cell_type": "code",
      "metadata": {
        "id": "FKqlSCrpS9dH",
        "colab_type": "code",
        "outputId": "2c28c523-c1dd-4762-f59f-1290767200aa",
        "colab": {
          "base_uri": "https://localhost:8080/",
          "height": 316
        }
      },
      "source": [
        "!git clone https://github.com/nickwalton/AIDungeon/\n",
        "%cd AIDungeon\n",
        "!./install.sh\n",
        "from IPython.display import clear_output \n",
        "clear_output()\n",
        "print(\"Download Complete!\")"
      ],
      "execution_count": 0,
      "outputs": [
        {
          "output_type": "stream",
          "text": [
            "Cloning into 'AIDungeon'...\n",
            "remote: Enumerating objects: 17, done.\u001b[K\n",
            "remote: Counting objects: 100% (17/17), done.\u001b[K\n",
            "remote: Compressing objects: 100% (13/13), done.\u001b[K\n",
            "remote: Total 4588 (delta 6), reused 10 (delta 3), pack-reused 4571\u001b[K\n",
            "Receiving objects: 100% (4588/4588), 29.66 MiB | 9.08 MiB/s, done.\n",
            "Resolving deltas: 100% (2864/2864), done.\n",
            "/content/AIDungeon\n",
            "Downloading AIDungeon2 Model... (this may take a few minutes)\n",
            "Copying gs://ai_dungeon_awesomeness/model_v5/model-550.meta...\n",
            "Copying gs://ai_dungeon_awesomeness/model_v5/vocab.bpe...\n",
            "Copying gs://ai_dungeon_awesomeness/model_v5/checkpoint...\n",
            "Copying gs://ai_dungeon_awesomeness/model_v5/model-550.data-00000-of-00001...\n",
            "Copying gs://ai_dungeon_awesomeness/model_v5/encoder.json...\n",
            "Copying gs://ai_dungeon_awesomeness/model_v5/hparams.json...\n",
            "Copying gs://ai_dungeon_awesomeness/model_v5/model-550.index...\n"
          ],
          "name": "stdout"
        }
      ]
    },
    {
      "cell_type": "code",
      "metadata": {
        "id": "YjArwbWh6XwN",
        "colab_type": "code",
        "colab": {}
      },
      "source": [
        "from IPython.display import Javascript\n",
        "display(Javascript('''google.colab.output.setIframeHeight(0, true, {maxHeight: 5000})'''))\n",
        "!python play.py"
      ],
      "execution_count": 0,
      "outputs": []
    }
  ]
}